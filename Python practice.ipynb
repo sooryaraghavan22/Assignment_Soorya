{
 "cells": [
  {
   "cell_type": "code",
   "execution_count": 1,
   "id": "84858ade",
   "metadata": {},
   "outputs": [
    {
     "name": "stdout",
     "output_type": "stream",
     "text": [
      "2000\n",
      "2000 is a leap year\n",
      "True\n"
     ]
    }
   ],
   "source": [
    "\n",
    "def is_leap(year):\n",
    "    leap=False\n",
    "    if year%4==0 and year%400==0:\n",
    "        print(f\"{year} is a leap year\")\n",
    "        leap=True\n",
    "    elif year%4==0 and year%100!=0:\n",
    "        print(f\"{year} is a leap year\")\n",
    "        leap=True\n",
    "    else:\n",
    "        print(f\"{year} is not a multiple of 4 hence it's not a leap year\")\n",
    "      \n",
    "    \n",
    "    return leap\n",
    "\n",
    "year = int(input())\n",
    "print(is_leap(year))"
   ]
  },
  {
   "cell_type": "code",
   "execution_count": 11,
   "id": "d4221cf8",
   "metadata": {},
   "outputs": [
    {
     "name": "stdout",
     "output_type": "stream",
     "text": [
      "Enter the number:3\n",
      "hello\n",
      "{}\n",
      "['hello']\n",
      "hai\n",
      "{'hello': 1}\n",
      "['hello', 'hai']\n",
      "hai\n",
      "{'hello': 1, 'hai': 1}\n",
      "2\n",
      "['hello', 'hai']\n",
      "{'hello': 1, 'hai': 2}\n",
      "2\n"
     ]
    }
   ],
   "source": [
    "n = int(input(\"Enter the number:\"))\n",
    "count = {}\n",
    "words = []\n",
    "for i in range(n):\n",
    "  word = input().strip()\n",
    "  print(count)\n",
    "  if word in count:\n",
    "    count[word] += 1\n",
    "  else:\n",
    "    count[word] = 1\n",
    "    words.append(word)\n",
    "    print(words)\n",
    "    \n",
    "print(len(words))\n",
    "print(words)\n",
    "print(count)\n",
    "print(count[word])"
   ]
  },
  {
   "cell_type": "code",
   "execution_count": 45,
   "id": "7509f10e",
   "metadata": {},
   "outputs": [
    {
     "name": "stdout",
     "output_type": "stream",
     "text": [
      "Enter any string:hello\n",
      "{'h': 1, 'e': 1, 'l': 2, 'o': 1}\n"
     ]
    }
   ],
   "source": [
    "str1=input(\"Enter any string:\")\n",
    "\n",
    "count={}\n",
    "\n",
    "\n",
    "for i in str1:\n",
    "    if i in count:\n",
    "        count[i]=count[i]+1\n",
    "        #print(f\"{i},{count[i]}\")\n",
    "    else:\n",
    "        count[i]=1\n",
    "        #print(f\"{i},{count[i]}\")\n",
    "\n",
    "print(count)\n",
    "#print(new)\n",
    "        "
   ]
  },
  {
   "cell_type": "code",
   "execution_count": 54,
   "id": "17a45078",
   "metadata": {},
   "outputs": [
    {
     "name": "stdout",
     "output_type": "stream",
     "text": [
      "hello\n",
      "('h', 1) ('e', 1) ('l', 2) ('o', 1) "
     ]
    }
   ],
   "source": [
    "\n",
    "# Compress the String in python - Hacker Rank Solution\n",
    "# Python 3\n",
    "# Enter your code here. Read input from STDIN. Print output to STDOUT\n",
    "# Compress the String in python - Hacker Rank Solution START\n",
    "from itertools import *\n",
    "\n",
    "io = input()\n",
    "for i,j in groupby(map(str,list(io))):\n",
    "    print(tuple([i,len(list(j))]) ,end = \" \")\n",
    "\n",
    "# Compress the String in python - Hacker Rank Solution END"
   ]
  },
  {
   "cell_type": "code",
   "execution_count": 40,
   "id": "237f9434",
   "metadata": {},
   "outputs": [
    {
     "name": "stdout",
     "output_type": "stream",
     "text": [
      "1222356\n",
      "(1, 1) (3, 2) (1, 3) (1, 5) (1, 6) "
     ]
    }
   ],
   "source": [
    "\n",
    "# Python 3\n",
    "# Enter your code here. Read input from STDIN. Print output to STDOUT\n",
    "# Compress the String in python - Hacker Rank Solution START\n",
    "from itertools import *\n",
    "\n",
    "io = input()\n",
    "for i,j in groupby(map(int,list(io))):\n",
    "    print(tuple([len(list(j)), i]) ,end = \" \")\n",
    "\n",
    "# Compress the String in python - Hacker Rank Solution END\n"
   ]
  },
  {
   "cell_type": "code",
   "execution_count": 45,
   "id": "cd227da4",
   "metadata": {},
   "outputs": [
    {
     "name": "stdout",
     "output_type": "stream",
     "text": [
      "Enter the number of words:3\n",
      "hai is helloo\n",
      "number of vowels in these words:6\n"
     ]
    }
   ],
   "source": [
    "\n",
    "vowels=['a','e','i','o','u']\n",
    "    \n",
    "N=int(input(\"Enter the number of words:\"))\n",
    "words=input().split()\n",
    "num_letter=0\n",
    "for word in words:\n",
    "    #print(word)\n",
    "    for letter in word:\n",
    "        if letter in vowels:\n",
    "            num_letter=num_letter+1\n",
    "print(f\"number of vowels in these words:{num_letter}\")"
   ]
  },
  {
   "cell_type": "code",
   "execution_count": 42,
   "id": "8d06d540",
   "metadata": {},
   "outputs": [
    {
     "name": "stdout",
     "output_type": "stream",
     "text": [
      "3\n",
      "helloo is hai\n",
      "4\n"
     ]
    }
   ],
   "source": [
    "def is_vowel(letter):\n",
    "    return letter in ['a', 'e', 'i', 'o', 'u', 'y']\n",
    "\n",
    "def score_words(words):\n",
    "    score = 0\n",
    "    for word in words:\n",
    "        num_vowels = 0\n",
    "        for letter in word:\n",
    "            if is_vowel(letter):\n",
    "                num_vowels += 1\n",
    "        if num_vowels % 2 == 0:\n",
    "            score += 2\n",
    "        else:\n",
    "        # Words Score in Python - Hacker Rank Solution START\n",
    "            score += 1\n",
    "        # Words Score in Python - Hacker Rank Solution END\n",
    "    return score\n",
    "\n",
    "n = int(input())\n",
    "words = input().split()\n",
    "print(score_words(words))\n"
   ]
  },
  {
   "cell_type": "code",
   "execution_count": 53,
   "id": "0e9ad97b",
   "metadata": {},
   "outputs": [
    {
     "name": "stdout",
     "output_type": "stream",
     "text": [
      "Enter the number of words:3\n",
      "hai is hello\n",
      "5\n"
     ]
    }
   ],
   "source": [
    "\n",
    "\n",
    "vowels=['a','e','i','o','u']    \n",
    "N=int(input(\"Enter the number of words:\"))\n",
    "words=input().split()\n",
    "\n",
    "\n",
    "def score_word(words):\n",
    "    num_letter=0\n",
    "    for word in words:\n",
    "    #print(word)\n",
    "        for letter in word:\n",
    "            if letter in vowels:\n",
    "                num_letter=num_letter+1\n",
    "    return num_letter\n",
    "\n",
    "print(score_word(words))\n"
   ]
  },
  {
   "cell_type": "code",
   "execution_count": null,
   "id": "61556133",
   "metadata": {},
   "outputs": [],
   "source": []
  }
 ],
 "metadata": {
  "kernelspec": {
   "display_name": "Python 3 (ipykernel)",
   "language": "python",
   "name": "python3"
  },
  "language_info": {
   "codemirror_mode": {
    "name": "ipython",
    "version": 3
   },
   "file_extension": ".py",
   "mimetype": "text/x-python",
   "name": "python",
   "nbconvert_exporter": "python",
   "pygments_lexer": "ipython3",
   "version": "3.9.12"
  }
 },
 "nbformat": 4,
 "nbformat_minor": 5
}
