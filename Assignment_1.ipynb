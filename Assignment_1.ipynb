{
 "cells": [
  {
   "cell_type": "markdown",
   "id": "f2895022",
   "metadata": {},
   "source": [
    "1) In the below elements which of them are values or an expression? eg:- values can be\n",
    "   integer or string and expressions will be mathematical operators.\n",
    "   \n",
    "* -->Expression\n",
    "\n",
    "'hello' -->Value\n",
    "\n",
    "-87.8 -->Value\n",
    "\n",
    "-  -->Expression\n",
    "\n",
    "/  -->Expression\n",
    "\n",
    "+  -->Expression\n",
    "\n",
    "6 -->Value"
   ]
  },
  {
   "cell_type": "markdown",
   "id": "02032c73",
   "metadata": {},
   "source": [
    "2) What is the difference between string and variable?\n",
    "\n",
    "    Variables are symbols that you can use to store data in a program. You can think of them as an empty box that you fill with some data or value. Strings are data, so we can use them to fill up a variable.\n",
    "    \n",
    "Variables:-\n",
    "\n",
    "Variable as an identifier to store a value in a memory location and to manipulate it if needed.\n",
    "\n",
    "x = 10 \n",
    "x = 20 \n",
    "So, in the above example, we can say that x is a variable that stores the value 10. Interestingly, in Python, there is no specific command to declare a variable. Therefore, a variable is created when you first assign a value to it in your program. Thus, in the above program, the variable x is created when you assign the value 10 to it, meaning that a memory address is allocated to store the value 10. Later, when you re-assign using x = 20, the value in the corresponding memory address will be changed to 20. Thus, you can think of variable as an identifier to play around with a value that is created and stored in a memory location. A variable can be of several types like integer, string, float, etc. based on the value you assign to it.\n",
    "\n",
    "Strings:-\n",
    "\n",
    "As far as Python is concerned, anything you assign to a variable using quotes (single or double) will be considered as a string. Thus, a string is one of several types of a variable.\n",
    "\n",
    "a = \"10\" \n",
    "b = \"20\" \n",
    "print(a+b)  #prints 1020 \n",
    " \n",
    "a = 10 \n",
    "b = 20 \n",
    "print(a+b)  #prints 30 \n",
    "So, in the above example, (a+b) returns 1020 in the first case (string concatenation of 10 and 20), whereas in the second case, it returns 30 since it interprets a and b as integers at run-time. You can cross check the type of a variable x by using the command type(x).\n",
    "    \n"
   ]
  },
  {
   "cell_type": "markdown",
   "id": "0c3b014d",
   "metadata": {},
   "source": [
    "3) Describe three different data types.\n",
    "\n",
    "    Data types are the classification or categorization of data items. It represents the kind of value that tells what operations can be performed on a particular data.\n",
    "\n",
    "Integers:– This value is represented by int class. It contains positive or negative whole numbers (without fraction or decimal). In Python there is no limit to how long an integer value can be.\n",
    "\n",
    "Float :– This value is represented by float class. It is a real number with floating point representation. It is specified by a decimal point. \n",
    "\n",
    "Complex Numbers – Complex number is represented by complex class. It is specified as (real part) + (imaginary part)j. For example – 2+3j\n"
   ]
  },
  {
   "cell_type": "code",
   "execution_count": 2,
   "id": "08e3272d",
   "metadata": {},
   "outputs": [
    {
     "name": "stdout",
     "output_type": "stream",
     "text": [
      "Type of a:  <class 'int'>\n",
      "\n",
      "Type of b:  <class 'float'>\n",
      "\n",
      "Type of c:  <class 'complex'>\n"
     ]
    }
   ],
   "source": [
    "a = 5\n",
    "print(\"Type of a: \", type(a))#Integer datatype\n",
    "  \n",
    "b = 5.0\n",
    "print(\"\\nType of b: \", type(b))#Float datatype\n",
    "  \n",
    "c = 2 + 4j\n",
    "print(\"\\nType of c: \", type(c))#Complex datatype"
   ]
  },
  {
   "cell_type": "markdown",
   "id": "104c1457",
   "metadata": {},
   "source": [
    "4) What is an expression made up of? What do all expressions do?\n",
    "\n",
    "An expression is a combination of operators and operands that is interpreted to produce some other value.An expression is evaluated as per the precedence of its operators. So that if there is more than one operator in an expression, their precedence decides which operation will be performed first. We have many different types of expressions in Python.\n",
    "    \n",
    "    1. Constant Expressions: \n",
    "    2. Arithmetic Expressions: \n",
    "    3. Integral Expressions: \n",
    "    5. Relational Expressions:\n",
    "    6. Logical Expressions:\n",
    "    7. Bitwise Expressions: \n",
    "    8. Combinational Expressions:"
   ]
  },
  {
   "cell_type": "code",
   "execution_count": 3,
   "id": "e4f28ba8",
   "metadata": {},
   "outputs": [
    {
     "name": "stdout",
     "output_type": "stream",
     "text": [
      "20\n"
     ]
    }
   ],
   "source": [
    "# An example of Expression\n",
    "a = 16\n",
    "b = 2\n",
    "  \n",
    "c = a + (b * b) # This is an Expression\n",
    "print(c)"
   ]
  },
  {
   "cell_type": "markdown",
   "id": "1d025903",
   "metadata": {},
   "source": [
    "5) This assignment statements, like spam = 10. What is the difference between an\n",
    "   expression and a statement?\n",
    "   \n",
    "   Expression:-\n",
    "   1.An expression evaluates to a value.\n",
    "   2.The evaluation of a statement does not changes state.\n",
    "   3.Evaluation of an expression always Produces or returns a result value.\n",
    "   4.Every expression can’t be a statement.\n",
    "   \n",
    "   Example:-x = 5, y = 3, z = x + y\n",
    "   \n",
    "   Statement:-\n",
    "   1.A statement executes something.\n",
    "   2.The execution of a statement changes state.\n",
    "   3.Execution of a statement may or may not produces or displays a result value, it only does whatever the statement says.\n",
    "   4.Every statement can be an expression.\n",
    "   \n",
    "   Example:-x = 3"
   ]
  },
  {
   "cell_type": "markdown",
   "id": "dc86ea5c",
   "metadata": {},
   "source": [
    "6) After running the following code, what does the variable bacon contain?\n",
    "   bacon = 22\n",
    "   bacon + 1"
   ]
  },
  {
   "cell_type": "code",
   "execution_count": 4,
   "id": "00262e50",
   "metadata": {},
   "outputs": [
    {
     "data": {
      "text/plain": [
       "22"
      ]
     },
     "execution_count": 4,
     "metadata": {},
     "output_type": "execute_result"
    }
   ],
   "source": [
    "# Variable bacon contains 22 only. Because bacon variable is incrementing by 1, but it's not assigned to bacon. \n",
    "bacon = 22\n",
    "bacon + 1\n",
    "bacon"
   ]
  },
  {
   "cell_type": "markdown",
   "id": "c0b5990c",
   "metadata": {},
   "source": [
    "7) What should the values of the following two terms be?\n",
    "'spam'+'spamspam'\n",
    "'spam'*3\n",
    "\n",
    "-->Values of the above two terms should be same('spamspamspam')."
   ]
  },
  {
   "cell_type": "code",
   "execution_count": 5,
   "id": "c490c5c9",
   "metadata": {},
   "outputs": [
    {
     "data": {
      "text/plain": [
       "'spamspamspam'"
      ]
     },
     "execution_count": 5,
     "metadata": {},
     "output_type": "execute_result"
    }
   ],
   "source": [
    "'spam'+'spamspam' # The string 'spam' is concatenated with string 'spamspam' and form a new string like 'spamspamspam'"
   ]
  },
  {
   "cell_type": "code",
   "execution_count": 6,
   "id": "0adfb52b",
   "metadata": {},
   "outputs": [
    {
     "data": {
      "text/plain": [
       "'spamspamspam'"
      ]
     },
     "execution_count": 6,
     "metadata": {},
     "output_type": "execute_result"
    }
   ],
   "source": [
    "'spam'*3 # Print the string 'spam' 3 times and form a new string like 'spamspamspam'."
   ]
  },
  {
   "cell_type": "markdown",
   "id": "940a0d97",
   "metadata": {},
   "source": [
    "8) Why is eggs a valid variable name while 100 is invalid?\n",
    "\n",
    "Because variable names cannot begin with a number.\n",
    "\n",
    "Variable Naming Rules in Python are:-\n",
    "1. Variable name should start with letter(a-z,A-Z) or underscore (_).\n",
    "2.In variable name, no special characters allowed other than underscore (_).\n",
    "3.Variables are case sensitive.\n",
    "4.Variable name can have numbers but not at the beginning.\n",
    "5.Variable name should not be a Python keyword.Keywords are also called as reserved words."
   ]
  },
  {
   "cell_type": "markdown",
   "id": "4231d204",
   "metadata": {},
   "source": [
    "9) What three functions can be used to get the integer, floating-point number, or string\n",
    "   version of a value?\n",
    "   \n",
    "   The int() , float() , and str() functions will evaluate to the integer, floating-point number, and string versions of the value passed to them."
   ]
  },
  {
   "cell_type": "code",
   "execution_count": 7,
   "id": "8655ab94",
   "metadata": {},
   "outputs": [
    {
     "name": "stdout",
     "output_type": "stream",
     "text": [
      "Enter an number:3\n",
      "Enter an number:6\n",
      "Enter an number:66\n",
      "a is : 3 : <class 'int'>\n",
      "b is: 6.0 : <class 'float'>\n",
      "c is: 66 : <class 'str'>\n"
     ]
    }
   ],
   "source": [
    "a=int(input(\"Enter an number:\"))\n",
    "b=float(input(\"Enter an number:\"))\n",
    "c=input(\"Enter an number:\")\n",
    "\n",
    "print(f\"\"\"a is : {a} : {type(a)}\n",
    "b is: {b} : {type(b)}\n",
    "c is: {c} : {type(c)}\"\"\")"
   ]
  },
  {
   "cell_type": "markdown",
   "id": "9b87c076",
   "metadata": {},
   "source": [
    "10) Why does this expression cause an error? How can you fix it?\n",
    "'I have eaten ' + 99 + ' burritos.'\n",
    "\n",
    "    This expression causes an error because in this line 'I have eaten' and 'burritos' are strings, while 99 is treated as integer. In order to fix the error and print 'I have eaten 99 burritos.', 99 needs '' around it to treat it as a string."
   ]
  },
  {
   "cell_type": "code",
   "execution_count": 8,
   "id": "8813d001",
   "metadata": {},
   "outputs": [
    {
     "data": {
      "text/plain": [
       "'I have eaten 99 burritos.'"
      ]
     },
     "execution_count": 8,
     "metadata": {},
     "output_type": "execute_result"
    }
   ],
   "source": [
    "'I have eaten ' + '99' + ' burritos.'"
   ]
  },
  {
   "cell_type": "code",
   "execution_count": null,
   "id": "fc71da15",
   "metadata": {},
   "outputs": [],
   "source": []
  }
 ],
 "metadata": {
  "kernelspec": {
   "display_name": "Python 3 (ipykernel)",
   "language": "python",
   "name": "python3"
  },
  "language_info": {
   "codemirror_mode": {
    "name": "ipython",
    "version": 3
   },
   "file_extension": ".py",
   "mimetype": "text/x-python",
   "name": "python",
   "nbconvert_exporter": "python",
   "pygments_lexer": "ipython3",
   "version": "3.9.12"
  }
 },
 "nbformat": 4,
 "nbformat_minor": 5
}
