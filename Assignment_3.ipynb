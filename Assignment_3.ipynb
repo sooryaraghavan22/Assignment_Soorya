{
 "cells": [
  {
   "cell_type": "markdown",
   "id": "469ae78b",
   "metadata": {},
   "source": [
    "1) Why are functions advantageous to have in your programs?\n",
    "\n",
    "    Functions reduce the need for duplicate code. This makes programs shorter, easier to read, and easier to update. The main advantage of functions is code Reusability."
   ]
  },
  {
   "cell_type": "markdown",
   "id": "70e76e57",
   "metadata": {},
   "source": [
    "2) When does the code in a function run: when it's specified or when it's called?\n",
    "\n",
    "    The code in a function executes when the function is called, not when the function is specified."
   ]
  },
  {
   "cell_type": "markdown",
   "id": "c560b2c3",
   "metadata": {},
   "source": [
    "3) What statement creates a function?\n",
    "\n",
    "    The def statement defines a function\n",
    "Syntax of Function:\n",
    "def function_name(parameters):\n",
    "    \"\"\"doc string\"\"\"          \n",
    "    -----function body-----\n",
    "    -----function body-----\n",
    "    return value"
   ]
  },
  {
   "cell_type": "markdown",
   "id": "1132712b",
   "metadata": {},
   "source": [
    "4) What is the difference between a function and a function call?\n",
    "\n",
    "     A function is procedure to achieve a particular result. while function call is using this function to achive that task. Using a function to do a particular task any point in program is called as function call."
   ]
  },
  {
   "cell_type": "markdown",
   "id": "49fa0f96",
   "metadata": {},
   "source": [
    "5) How many global scopes are there in a Python program? How many local scopes?\n",
    "\n",
    "    There is one global scope, and a local scope is created whenever a function is called."
   ]
  },
  {
   "cell_type": "markdown",
   "id": "d213a194",
   "metadata": {},
   "source": [
    "6) What happens to variables in a local scope when the function call returns?\n",
    "\n",
    "    When a function returns, the local scope is destroyed, and all the variables in it are forgotten."
   ]
  },
  {
   "cell_type": "markdown",
   "id": "229a9410",
   "metadata": {},
   "source": [
    "7) What is the concept of a return value? Is it possible to have a return value in an expression?\n",
    "\n",
    "     A return value is the value that a function call evaluates to. Like any value, a return value can be used as part of an expression."
   ]
  },
  {
   "cell_type": "markdown",
   "id": "a693e28b",
   "metadata": {},
   "source": [
    "8) If a function does not have a return statement, what is the return value of a call to that function?\n",
    "\n",
    "    If there is no return statement for a function, its return value is None."
   ]
  },
  {
   "cell_type": "markdown",
   "id": "2f35a66e",
   "metadata": {},
   "source": [
    "9) How do you make a function variable refer to the global variable?\n",
    "\n",
    "    A global statement will force a variable in a function to refer to the global variable. If you want to refer to a global variable in a function, you can use the global keyword to declare which variables are global."
   ]
  },
  {
   "cell_type": "markdown",
   "id": "e80a865f",
   "metadata": {},
   "source": [
    "10) What is the data type of None?\n",
    "\n",
    "    The data type of None is NoneType."
   ]
  },
  {
   "cell_type": "markdown",
   "id": "30d94197",
   "metadata": {},
   "source": [
    "11) What does the sentence import areallyourpetsnamederic do?\n",
    "\n",
    "    That import statement imports a module named areallyourpetsnamederic."
   ]
  },
  {
   "cell_type": "markdown",
   "id": "ae9636c5",
   "metadata": {},
   "source": [
    "12) If you had a bacon() feature in a spam module, what would you call it after importing spam?\n",
    "\n",
    "    This function can be called with spam.bacon()."
   ]
  },
  {
   "cell_type": "markdown",
   "id": "b306deee",
   "metadata": {},
   "source": [
    "13) What can you do to save a programme from crashing if it encounters an error?\n",
    "\n",
    "    Place the line of code that might cause an error in a try clause and use except block to handle the error."
   ]
  },
  {
   "cell_type": "markdown",
   "id": "5954d1c3",
   "metadata": {},
   "source": [
    "14) What is the purpose of the try clause? What is the purpose of the except clause?\n",
    "\n",
    "    Try and Except statement is used to handle these errors within our code in Python. The try block is used to check some code for errors i.e the code inside the try block will execute when there is no error in the program. Whereas the code inside the except block will execute whenever the program encounters some error in the preceding try block."
   ]
  }
 ],
 "metadata": {
  "kernelspec": {
   "display_name": "Python 3 (ipykernel)",
   "language": "python",
   "name": "python3"
  },
  "language_info": {
   "codemirror_mode": {
    "name": "ipython",
    "version": 3
   },
   "file_extension": ".py",
   "mimetype": "text/x-python",
   "name": "python",
   "nbconvert_exporter": "python",
   "pygments_lexer": "ipython3",
   "version": "3.9.12"
  }
 },
 "nbformat": 4,
 "nbformat_minor": 5
}
