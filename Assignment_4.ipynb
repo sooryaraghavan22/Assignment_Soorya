{
 "cells": [
  {
   "cell_type": "markdown",
   "id": "b557e384",
   "metadata": {},
   "source": [
    "1) What exactly is []?\n",
    "\n",
    "   The empty list represented by [] is a list that contains no items. This is similar to '' which represents an empty string"
   ]
  },
  {
   "cell_type": "markdown",
   "id": "0d08783e",
   "metadata": {},
   "source": [
    "2) In a list of values stored in a variable called spam, how would you assign the value 'hello' as the third value? \n",
    "   (Assume [2, 4, 6, 8, 10] are in spam.)\n",
    "  \n",
    "    spam[2]='hello'"
   ]
  },
  {
   "cell_type": "code",
   "execution_count": 1,
   "id": "c2e94b18",
   "metadata": {},
   "outputs": [
    {
     "name": "stdout",
     "output_type": "stream",
     "text": [
      "[2, 4, 6, 8, 10]\n",
      "[2, 4, 'hello', 8, 10]\n"
     ]
    }
   ],
   "source": [
    "# Example\n",
    "spam=[2,4,6,8,10]\n",
    "print(spam)\n",
    "spam[2]='hello' #List uses zero based indexing\n",
    "print(spam)"
   ]
  },
  {
   "cell_type": "markdown",
   "id": "8095abac",
   "metadata": {},
   "source": [
    "### Let's pretend the spam includes the list ['a','b','c',d'] for the next three queries.\n"
   ]
  },
  {
   "cell_type": "markdown",
   "id": "c28ab927",
   "metadata": {},
   "source": [
    "3. What is the value of spam[int(int('3'*2)//11)] ?\n",
    "\n",
    "    'd' (Note that '3' * 2 is the string '33', which is passed to int() before being divided by 11. This eventually evaluates to 3, spam[3] is equal to d.)"
   ]
  },
  {
   "cell_type": "code",
   "execution_count": 4,
   "id": "060ec782",
   "metadata": {},
   "outputs": [
    {
     "name": "stdout",
     "output_type": "stream",
     "text": [
      "spam[int(int('3'*2)//11)] ->,d\n"
     ]
    }
   ],
   "source": [
    "spam=['a','b','c','d']\n",
    "print(f\"spam[int(int('3'*2)//11)] ->,{spam[int(int('3'*2)//11)]}\")"
   ]
  },
  {
   "cell_type": "markdown",
   "id": "36259ab9",
   "metadata": {},
   "source": [
    "4) What is the value of spam[-1]?\n",
    "\n",
    "    'd' (Lists support Negative indexing, Hence spam[-1] returs 'd')\n"
   ]
  },
  {
   "cell_type": "code",
   "execution_count": 5,
   "id": "d9ddae76",
   "metadata": {},
   "outputs": [
    {
     "name": "stdout",
     "output_type": "stream",
     "text": [
      "spam[-1] -> ,d\n"
     ]
    }
   ],
   "source": [
    "spam=['a','b','c','d']\n",
    "print(f\"spam[-1] -> ,{spam[-1]}\")"
   ]
  },
  {
   "cell_type": "markdown",
   "id": "29b711a7",
   "metadata": {},
   "source": [
    "5) What is the value of spam[:2]?\n",
    "\n",
    "    spam[:2] returns all elements in the list spam from 0 to 2 excluding 2"
   ]
  },
  {
   "cell_type": "code",
   "execution_count": 6,
   "id": "b3407051",
   "metadata": {},
   "outputs": [
    {
     "name": "stdout",
     "output_type": "stream",
     "text": [
      "['a', 'b', 'c', 'd']\n",
      "['a', 'b']\n"
     ]
    }
   ],
   "source": [
    "print(spam)\n",
    "print(spam[:2])"
   ]
  },
  {
   "cell_type": "markdown",
   "id": "3eade5e6",
   "metadata": {},
   "source": [
    "### Let's pretend bacon has the list [3.14,'cat',11,'cat',True] for the next three question\n"
   ]
  },
  {
   "cell_type": "markdown",
   "id": "061ece6f",
   "metadata": {},
   "source": [
    "6) What is the value of bacon.index('cat')?\n",
    "\n",
    "    The value of bacon.index('cat') is 1 (Note: index method returns the index of first occuerence of 'cat')"
   ]
  },
  {
   "cell_type": "code",
   "execution_count": 8,
   "id": "e80f202f",
   "metadata": {},
   "outputs": [
    {
     "name": "stdout",
     "output_type": "stream",
     "text": [
      "bacon.index('cat') -> 1\n"
     ]
    }
   ],
   "source": [
    "bacon=[3.14,'cat',11,'cat',True]\n",
    "print(f\"bacon.index('cat') -> {bacon.index('cat')}\")"
   ]
  },
  {
   "cell_type": "markdown",
   "id": "ffb60b4e",
   "metadata": {},
   "source": [
    "7) How does bacon.append(99) change the look of the list value in bacon?\n",
    "\n",
    "    The append method adds new elements to the end of the list"
   ]
  },
  {
   "cell_type": "code",
   "execution_count": 9,
   "id": "a27c5475",
   "metadata": {},
   "outputs": [
    {
     "name": "stdout",
     "output_type": "stream",
     "text": [
      "[3.14, 'cat', 11, 'cat', True]\n",
      "[3.14, 'cat', 11, 'cat', True, 99]\n"
     ]
    }
   ],
   "source": [
    "# Example\n",
    "print(bacon)\n",
    "bacon.append(99) # appends 99 to the end of the list\n",
    "print(bacon)"
   ]
  },
  {
   "cell_type": "markdown",
   "id": "1c076d1b",
   "metadata": {},
   "source": [
    "8) How does bacon.remove('cat') change the look of the list in bacon?\n",
    "\n",
    "    The remove method removes the first occurence of the element in the list"
   ]
  },
  {
   "cell_type": "code",
   "execution_count": 10,
   "id": "11e23e3d",
   "metadata": {},
   "outputs": [
    {
     "name": "stdout",
     "output_type": "stream",
     "text": [
      "[3.14, 'cat', 11, 'cat', True, 99]\n",
      "[3.14, 11, 'cat', True, 99]\n"
     ]
    }
   ],
   "source": [
    "print(bacon)\n",
    "bacon.remove('cat')\n",
    "print(bacon)"
   ]
  },
  {
   "cell_type": "markdown",
   "id": "ad62486e",
   "metadata": {},
   "source": [
    "9) What are the list concatenation and list replication operators?\n",
    "\n",
    "    The operator for list concatenation is +, while the operator for replication is *. (This is the same as for strings.)"
   ]
  },
  {
   "cell_type": "code",
   "execution_count": 11,
   "id": "b02fe87f",
   "metadata": {},
   "outputs": [
    {
     "name": "stdout",
     "output_type": "stream",
     "text": [
      "List Concatenation is : ['ML', 'DL', 'AI', 'CV', 'NLP', 'RNN', 'CNN', 'SVN']\n",
      "List Replication is : ['RNN', 'CNN', 'SVN', 'RNN', 'CNN', 'SVN']\n"
     ]
    }
   ],
   "source": [
    "# Example\n",
    "list_1 = ['ML','DL','AI','CV','NLP']\n",
    "list_2 = ['RNN','CNN','SVN']\n",
    "print(f\"List Concatenation is : {list_1 + list_2}\") # List Concatenation\n",
    "print(f\"List Replication is : {list_2*2}\") # List Replication"
   ]
  },
  {
   "cell_type": "markdown",
   "id": "0ea9d8b3",
   "metadata": {},
   "source": [
    "10) What is difference between the list methods append() and insert()?\n",
    "\n",
    "    While append() will add values only to the end of a list, insert() can add them anywhere in the list."
   ]
  },
  {
   "cell_type": "code",
   "execution_count": 12,
   "id": "2ea6d066",
   "metadata": {},
   "outputs": [
    {
     "name": "stdout",
     "output_type": "stream",
     "text": [
      "[1, 2, 3, 4, 5, 6]\n",
      "[1, 2, 'Demo', 3, 4, 5, 6]\n"
     ]
    }
   ],
   "source": [
    "#Examples\n",
    "list = [1,2,3,4,5]\n",
    "list.append(6)\n",
    "print(list)\n",
    "list.insert(2,'Demo')\n",
    "print(list)"
   ]
  },
  {
   "cell_type": "markdown",
   "id": "8175f76f",
   "metadata": {},
   "source": [
    "11) What are the two methods for removing items from a list?\n",
    "\n",
    "    The methods are remove(), pop() and clear(). It helps to remove the very first given element matching from the list. The pop() method removes an element from the list based on the index given. The clear() method will remove all the elements present in the list."
   ]
  },
  {
   "cell_type": "markdown",
   "id": "371c01d1",
   "metadata": {},
   "source": [
    "12) Describe how list values and string values are identical.\n",
    "\n",
    "    Both lists and strings can be passed to len() function, have indexes and slices, be used in for loops, be concatenated or replicated, and be used with the in and not in operators."
   ]
  },
  {
   "cell_type": "markdown",
   "id": "34c29647",
   "metadata": {},
   "source": [
    "13) What's the difference between tuples and lists?\n",
    "\n",
    "    Lists are Mutable, Indexable and Slicable. they can have values added, removed, or changed. Tuples are Immutable but Indexable and Slicable. the tuple values cannot be changed at all. Also, tuples are represented using parentheses, (), while lists use the square brackets, []."
   ]
  },
  {
   "cell_type": "markdown",
   "id": "416f6bf4",
   "metadata": {},
   "source": [
    "14) How do you type a tuple value that only contains the integer 42?\n",
    "\n",
    "    (42,) (The trailing comma is mandatory. otherwise its considered as a int by python Interpreter)"
   ]
  },
  {
   "cell_type": "code",
   "execution_count": 13,
   "id": "742a10eb",
   "metadata": {},
   "outputs": [
    {
     "name": "stdout",
     "output_type": "stream",
     "text": [
      "<class 'int'>\n",
      "<class 'tuple'>\n"
     ]
    }
   ],
   "source": [
    "tup1=(42)\n",
    "tup2=(42,)\n",
    "print(type(tup1))\n",
    "print(type(tup2))"
   ]
  },
  {
   "cell_type": "markdown",
   "id": "02f5cdee",
   "metadata": {},
   "source": [
    "15) How do you get a list value's tuple form? How do you get a tuple value's list form?\n",
    "\n",
    "     The tuple() and list() functions, respectively are used to convert a list to tuple and vice versa"
   ]
  },
  {
   "cell_type": "markdown",
   "id": "8141b16d",
   "metadata": {},
   "source": [
    "16) Variables that \"contain\" list values are not necessarily lists themselves. Instead, what do they contain?\n",
    "\n",
    "    They contain references to list values."
   ]
  },
  {
   "cell_type": "markdown",
   "id": "cf76bcf7",
   "metadata": {},
   "source": [
    "17) How do you distinguish between copy.copy() and copy.deepcopy()?\n",
    "\n",
    "    The copy.copy() function will do a shallow copy of a list, while the copy.deepcopy() function will do a deep copy of a list. That is, only copy.deepcopy() will duplicate any lists inside the list."
   ]
  }
 ],
 "metadata": {
  "kernelspec": {
   "display_name": "Python 3 (ipykernel)",
   "language": "python",
   "name": "python3"
  },
  "language_info": {
   "codemirror_mode": {
    "name": "ipython",
    "version": 3
   },
   "file_extension": ".py",
   "mimetype": "text/x-python",
   "name": "python",
   "nbconvert_exporter": "python",
   "pygments_lexer": "ipython3",
   "version": "3.9.12"
  }
 },
 "nbformat": 4,
 "nbformat_minor": 5
}
