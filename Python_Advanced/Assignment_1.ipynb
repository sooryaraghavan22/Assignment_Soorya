{
 "cells": [
  {
   "cell_type": "markdown",
   "id": "07bd802d",
   "metadata": {},
   "source": [
    "1) What is the purpose of Python's OOP?"
   ]
  },
  {
   "cell_type": "markdown",
   "id": "de21f9c8",
   "metadata": {},
   "source": [
    "    Object-oriented programming is a programming paradigm that provides a means of structuring programs so that properties and behaviors are bundled into individual objects\n",
    "\n",
    "    In Python, object-oriented Programming (OOPs) uses objects and classes in programming.\n",
    "    It aims to implement real-world entities like inheritance, polymorphisms, encapsulation, etc. in the programming.\n",
    "    The main concept of OOPs is to bind the data and the functions that work on that together as a single unit so that no other part of the code can access this data.\n",
    "    It comes up with the following advantages:\n",
    "    It helps to divide our over all program into different small segments and thus making it solving easy with the use of objects\n",
    "    Helps in easy maintenance and modification of existing program\n",
    "    Multiple instances of an object can be made."
   ]
  },
  {
   "cell_type": "markdown",
   "id": "b9ed7acb",
   "metadata": {},
   "source": [
    "2) Where does an inheritance search look for an attribute?"
   ]
  },
  {
   "cell_type": "markdown",
   "id": "7478c34e",
   "metadata": {},
   "source": [
    "    Python searches for an attribute in an upward tree of attributes. it first searches for the attribute in its instance and then looks in the class it is generated from, to all super classes listed in its class header"
   ]
  },
  {
   "cell_type": "markdown",
   "id": "9c2648eb",
   "metadata": {},
   "source": [
    "3) How do you distinguish between a class object and an instance object?"
   ]
  },
  {
   "cell_type": "markdown",
   "id": "caf8c489",
   "metadata": {},
   "source": [
    "The differences between a class object and an instance object are:\n",
    "\n",
    "    Class is a template for creating objects whereas object is an instance of class\n",
    "    Seperate memory is allocated for each object whenever an object is created. but for a class this doesnot happens.\n",
    "    A Class is created once. Many objects are created using a class.\n",
    "    As Classes have no allocated memory. they can't be manipulated. but objects can be manipulated."
   ]
  },
  {
   "cell_type": "markdown",
   "id": "db13dc44",
   "metadata": {},
   "source": [
    "4) What makes the first argument in a class’s method function special?"
   ]
  },
  {
   "cell_type": "markdown",
   "id": "b10bb5cd",
   "metadata": {},
   "source": [
    "Python Classes usually have three types of methods which are:\n",
    "\n",
    "    Instance Methods (object level methods)\n",
    "    Class Methods (class level methods)\n",
    "    Static Methods (general utility methods)\n",
    "    self is the first argument for instance methods. which refers to the object itself\n",
    "    cls is the first argument for class methods which refers to the class itself"
   ]
  },
  {
   "cell_type": "markdown",
   "id": "77727562",
   "metadata": {},
   "source": [
    "5) What is the purpose of the __init__ method?"
   ]
  },
  {
   "cell_type": "markdown",
   "id": "570097ff",
   "metadata": {},
   "source": [
    "    __init__ is a reseved method in python classes. It serves the role of a constructor in object oriented terminology. This method is called when an object is created from a class and it allows the class to initialize the attributes of the class"
   ]
  },
  {
   "cell_type": "markdown",
   "id": "0d05734a",
   "metadata": {},
   "source": [
    "6) What is the process for creating a class instance?"
   ]
  },
  {
   "cell_type": "markdown",
   "id": "325f6a1a",
   "metadata": {},
   "source": [
    "    To create a class instance, we need to call the class by its name and pass the arguments to the class, which its init method accepts.\n",
    "\n",
    "Example: my_name = my_class(\"Mano\",\"vishnu\") Here my_name is an instance of class my_class with attributes \"Mano\" and \"Vishnu\"."
   ]
  },
  {
   "cell_type": "markdown",
   "id": "0294e07d",
   "metadata": {},
   "source": [
    "7) What is the process for creating a class?"
   ]
  },
  {
   "cell_type": "markdown",
   "id": "3abf0415",
   "metadata": {},
   "source": [
    "class keyword is used to created a class in python. The syntax to create a class in python is class <classname>:\n",
    "\n",
    "Example: class Car: ➞ this creates a class called Car"
   ]
  },
  {
   "cell_type": "markdown",
   "id": "85e89a91",
   "metadata": {},
   "source": [
    "8) How would you define the superclasses of a class?"
   ]
  },
  {
   "cell_type": "markdown",
   "id": "946b4861",
   "metadata": {},
   "source": [
    "Superclass/Parent class is given as a arugment to the child class\n",
    "\n",
    "Example: class Employee(Person): Here child class Employee inherits attributes and methofs from Superclass/Parent Person"
   ]
  }
 ],
 "metadata": {
  "kernelspec": {
   "display_name": "Python 3 (ipykernel)",
   "language": "python",
   "name": "python3"
  },
  "language_info": {
   "codemirror_mode": {
    "name": "ipython",
    "version": 3
   },
   "file_extension": ".py",
   "mimetype": "text/x-python",
   "name": "python",
   "nbconvert_exporter": "python",
   "pygments_lexer": "ipython3",
   "version": "3.9.12"
  }
 },
 "nbformat": 4,
 "nbformat_minor": 5
}
