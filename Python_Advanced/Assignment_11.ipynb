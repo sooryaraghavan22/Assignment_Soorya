{
 "cells": [
  {
   "cell_type": "markdown",
   "id": "7eb8ef3d",
   "metadata": {},
   "source": [
    "1.What is the concept of a metaclass?"
   ]
  },
  {
   "cell_type": "markdown",
   "id": "e0e1f5a4",
   "metadata": {},
   "source": [
    "Metaclass in Python is a class of a class that defines how a class behaves. A class is itself a instance of Metaclass, and any Instance of Class in Python is an Instance of type metaclass. E.g. Type of of int, str, float, list, tuple and many more is of metaclass type."
   ]
  },
  {
   "cell_type": "markdown",
   "id": "052bff62",
   "metadata": {},
   "source": [
    "2.What is the best way to declare a class's metaclass?"
   ]
  },
  {
   "cell_type": "markdown",
   "id": "dd769519",
   "metadata": {},
   "source": [
    " A way to declare a class’ metaclass is by using metaclass keyword in class definition."
   ]
  },
  {
   "cell_type": "code",
   "execution_count": 2,
   "id": "4d4eb7e9",
   "metadata": {},
   "outputs": [
    {
     "name": "stdout",
     "output_type": "stream",
     "text": [
      "<class 'type'>\n",
      "<class '__main__.meta'>\n"
     ]
    }
   ],
   "source": [
    "class meta(type):\n",
    "    pass\n",
    "class class_meta(metaclass=meta):\n",
    "    pass\n",
    "print(type(meta))\n",
    "print(type(class_meta))"
   ]
  },
  {
   "cell_type": "markdown",
   "id": "5f787248",
   "metadata": {},
   "source": [
    "3.How do class decorators overlap with metaclasses for handling classes?"
   ]
  },
  {
   "cell_type": "markdown",
   "id": "17927d2a",
   "metadata": {},
   "source": [
    "Anything you can do with a class decorator, you can of course do with a custom metaclasses (just apply the functionality of the \"decorator function\", i.e., the one that takes a class object and modifies it, in the course of the metaclass's __new__ or __init__ that make the class object!)."
   ]
  },
  {
   "cell_type": "markdown",
   "id": "ccc2148b",
   "metadata": {},
   "source": [
    "4.How do class decorators overlap with metaclasses for handling instances?"
   ]
  },
  {
   "cell_type": "markdown",
   "id": "d711ba8f",
   "metadata": {},
   "source": [
    "Anything you can do with a class decorator, you can of course do with a custom metaclass (just apply the functionality of the \"decorator function\", i.e., the one that takes a class object and modifies it, in the course of the metaclass's __new__ or __init__ that make the class object!)."
   ]
  }
 ],
 "metadata": {
  "kernelspec": {
   "display_name": "Python 3 (ipykernel)",
   "language": "python",
   "name": "python3"
  },
  "language_info": {
   "codemirror_mode": {
    "name": "ipython",
    "version": 3
   },
   "file_extension": ".py",
   "mimetype": "text/x-python",
   "name": "python",
   "nbconvert_exporter": "python",
   "pygments_lexer": "ipython3",
   "version": "3.9.12"
  }
 },
 "nbformat": 4,
 "nbformat_minor": 5
}
