{
 "cells": [
  {
   "cell_type": "markdown",
   "id": "9ffa4592",
   "metadata": {},
   "source": [
    "Question 1:\n",
    "Please write a program using generator to print the numbers which can be divisible by 5 and\n",
    "7 between 0 and n in comma separated form while n is input by console.\n",
    "Example:\n",
    "If the following n is given as input to the program:\n",
    "100\n",
    "Then, the output of the program should be:\n",
    "0,35,70"
   ]
  },
  {
   "cell_type": "code",
   "execution_count": 7,
   "id": "e922026c",
   "metadata": {},
   "outputs": [
    {
     "name": "stdout",
     "output_type": "stream",
     "text": [
      "enter n : 100\n",
      "0,35,70\n"
     ]
    }
   ],
   "source": [
    "def getno(n): \n",
    "    i = 0 \n",
    "    while i < n:\n",
    "        j = i\n",
    "        i += 1 \n",
    "        if j % 7 == 0 and j % 5 == 0:\n",
    "            yield j\n",
    "n = int(input('enter n : '))\n",
    "num =[]\n",
    "for i in getno(n): \n",
    "    num.append(str(i))\n",
    "    \n",
    "print(','.join(num))\n",
    "     "
   ]
  },
  {
   "cell_type": "markdown",
   "id": "e4218adf",
   "metadata": {},
   "source": [
    "Question 2:\n",
    "Please write a program using generator to print the even numbers between 0 and n in comma\n",
    "separated form while n is input by console.\n",
    "Example:\n",
    "If the following n is given as input to the program:\n",
    "10\n",
    "Then, the output of the program should be:\n",
    "0,2,4,6,8,10"
   ]
  },
  {
   "cell_type": "code",
   "execution_count": 11,
   "id": "b3fe6a17",
   "metadata": {},
   "outputs": [
    {
     "name": "stdout",
     "output_type": "stream",
     "text": [
      "enter n : 10\n",
      "0,2,4,6,8,10\n"
     ]
    }
   ],
   "source": [
    "def getno(n): \n",
    "    i = 0 \n",
    "    while i <= n:\n",
    "        j = i\n",
    "        i += 1 \n",
    "        if j%2==0:\n",
    "            yield j\n",
    "n = int(input('enter n : '))\n",
    "num =[]\n",
    "for i in getno(n): \n",
    "    num.append(str(i))\n",
    "    \n",
    "print(','.join(num))\n",
    "     "
   ]
  },
  {
   "cell_type": "markdown",
   "id": "9d423e98",
   "metadata": {},
   "source": [
    "Question 3:\n",
    "The Fibonacci Sequence is computed based on the following formula:\n",
    "f(n)=0 if n=0\n",
    "f(n)=1 if n=1\n",
    "f(n)=f(n-1)+f(n-2) if n>1\n",
    "Please write a program using list comprehension to print the Fibonacci Sequence in comma\n",
    "separated form with a given n input by console.\n",
    "Example:\n",
    "If the following n is given as input to the program:\n",
    "7\n",
    "\n",
    "Then, the output of the program should be:\n",
    "0,1,1,2,3,5,8,13"
   ]
  },
  {
   "cell_type": "code",
   "execution_count": 13,
   "id": "a08f3e15",
   "metadata": {},
   "outputs": [
    {
     "name": "stdout",
     "output_type": "stream",
     "text": [
      "Enter the number:7\n",
      "[0, 1, 1, 2, 3, 5, 8, 13]\n"
     ]
    }
   ],
   "source": [
    "def genFibonaci(in_num):\n",
    "    if in_num == 0:\n",
    "        return 0\n",
    "    elif in_num == 1:\n",
    "        return 1\n",
    "    else:\n",
    "        return genFibonaci(in_num-1)+genFibonaci(in_num-2)\n",
    "\n",
    "in_num=int(input(\"Enter the number:\"))    \n",
    "print([genFibonaci(x) for x in range(0,in_num+1)])"
   ]
  },
  {
   "cell_type": "markdown",
   "id": "dbb7e6f9",
   "metadata": {},
   "source": [
    "Question 4:\n",
    "Assuming that we have some email addresses in the 'username@companyname.com' format,\n",
    "\n",
    "please write program to print the user name of a given email address. Both user names and company names are composed of letters only. Example: If the following email address is given as input to the program: john@google.com Then, the output of the program should be: john"
   ]
  },
  {
   "cell_type": "code",
   "execution_count": 15,
   "id": "1b9345d5",
   "metadata": {},
   "outputs": [
    {
     "name": "stdout",
     "output_type": "stream",
     "text": [
      "Enter Email Address(es): Rekha@wipro.com\n",
      "Username of Rekha@wipro.com is Rekha\n"
     ]
    }
   ],
   "source": [
    "\n",
    "def getUsernames():\n",
    "    in_string = input('Enter Email Address(es): ')\n",
    "    out_string = in_string.split('@')\n",
    "    print(f'Username of {in_string} is {out_string[0]}')\n",
    "getUsernames()\n"
   ]
  },
  {
   "cell_type": "markdown",
   "id": "cf9a5399",
   "metadata": {},
   "source": [
    "Question 5:\n",
    "Define a class named Shape and its subclass Square. The Square class has an init function\n",
    "which takes a length as argument. Both classes have a area function which can print the area of the shape where Shape's area is 0 by default."
   ]
  },
  {
   "cell_type": "code",
   "execution_count": 16,
   "id": "2c95a338",
   "metadata": {},
   "outputs": [
    {
     "name": "stdout",
     "output_type": "stream",
     "text": [
      "2500\n"
     ]
    }
   ],
   "source": [
    "class Shape:\n",
    "    def area(self):\n",
    "        return 0\n",
    "\n",
    "class Square(Shape):\n",
    "    def __init__(self, length):\n",
    "        self.length = length\n",
    "    def area(self):\n",
    "        return self.length*self.length\n",
    "\n",
    "square = Square(50)\n",
    "print(square.area())"
   ]
  },
  {
   "cell_type": "code",
   "execution_count": null,
   "id": "1bca8a47",
   "metadata": {},
   "outputs": [],
   "source": []
  }
 ],
 "metadata": {
  "kernelspec": {
   "display_name": "Python 3 (ipykernel)",
   "language": "python",
   "name": "python3"
  },
  "language_info": {
   "codemirror_mode": {
    "name": "ipython",
    "version": 3
   },
   "file_extension": ".py",
   "mimetype": "text/x-python",
   "name": "python",
   "nbconvert_exporter": "python",
   "pygments_lexer": "ipython3",
   "version": "3.9.12"
  }
 },
 "nbformat": 4,
 "nbformat_minor": 5
}
