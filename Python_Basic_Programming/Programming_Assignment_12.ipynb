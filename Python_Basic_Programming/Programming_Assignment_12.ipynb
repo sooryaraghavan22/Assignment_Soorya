{
 "cells": [
  {
   "cell_type": "markdown",
   "id": "49a74a1b",
   "metadata": {},
   "source": [
    "1) Write a Python program to Extract Unique values dictionary values?"
   ]
  },
  {
   "cell_type": "code",
   "execution_count": 3,
   "id": "84f8a1da",
   "metadata": {},
   "outputs": [
    {
     "name": "stdout",
     "output_type": "stream",
     "text": [
      "dict_values(['Rishikesh', 'Badrinath', 'Gangotri', 'Yamunotri', 'Kedarnath', 'Tirupati', 'Kedarnath'])\n",
      "Unique Values: ['Rishikesh', 'Tirupati', 'Kedarnath', 'Yamunotri', 'Gangotri', 'Badrinath']\n"
     ]
    }
   ],
   "source": [
    "in_dict = {1:'Rishikesh',2:'Badrinath',3:'Gangotri',4:'Yamunotri',5:'Kedarnath',6:'Tirupati',7:'Kedarnath'}\n",
    "print(in_dict.values())\n",
    "print(f'Unique Values: {list(set(in_dict.values()))}')"
   ]
  },
  {
   "cell_type": "markdown",
   "id": "c4bea9a0",
   "metadata": {},
   "source": [
    "2) Write a Python program to find the sum of all items in a dictionary?"
   ]
  },
  {
   "cell_type": "code",
   "execution_count": 7,
   "id": "0030ed67",
   "metadata": {},
   "outputs": [
    {
     "name": "stdout",
     "output_type": "stream",
     "text": [
      "Sum of All items:  300\n"
     ]
    }
   ],
   "source": [
    "in_dict = {'Apple':10,'Mango':30,'Banana':30,'Guava':30,'PineApple':200}\n",
    "print('Sum of All items: ',sum(in_dict.values()))"
   ]
  },
  {
   "cell_type": "markdown",
   "id": "fc99c0b7",
   "metadata": {},
   "source": [
    "3) Write a Python program to Merging two Dictionaries?"
   ]
  },
  {
   "cell_type": "code",
   "execution_count": 8,
   "id": "ab57c04c",
   "metadata": {},
   "outputs": [
    {
     "name": "stdout",
     "output_type": "stream",
     "text": [
      "{'employee_name': 'sariga', 'employer_name': 'wipro'}\n"
     ]
    }
   ],
   "source": [
    "employee_details={\"employee_name\":\"sariga\"}\n",
    "employer={\"employer_name\":\"wipro\"}\n",
    "employee_details.update(employer)\n",
    "print(employee_details)"
   ]
  },
  {
   "cell_type": "markdown",
   "id": "d989f4ea",
   "metadata": {},
   "source": [
    "4) Write a Python program to convert key-values list to flat dictionary?"
   ]
  },
  {
   "cell_type": "code",
   "execution_count": 25,
   "id": "28e607a0",
   "metadata": {},
   "outputs": [
    {
     "name": "stdout",
     "output_type": "stream",
     "text": [
      "{'abc': 10, 'ght': 20, 'rty': 30}\n"
     ]
    }
   ],
   "source": [
    "l = [('abc',10),('ght',20),('rty',30)]\n",
    "\n",
    "\n",
    "l1={}\n",
    "for i in l:\n",
    "    l1[i[0]]=i[1]\n",
    "print(l1)\n",
    "    "
   ]
  },
  {
   "cell_type": "markdown",
   "id": "61a0de5a",
   "metadata": {},
   "source": [
    "5) Write a Python program to insertion at the beginning in OrderedDict?"
   ]
  },
  {
   "cell_type": "code",
   "execution_count": 32,
   "id": "efa345a6",
   "metadata": {},
   "outputs": [
    {
     "name": "stdout",
     "output_type": "stream",
     "text": [
      "dict_one OrderedDict([('Apple', 'Iphone'), ('Microsoft', 'Windows'), ('Google', 'chrome')])\n",
      "dict_one OrderedDict([('Apple', 'Iphone'), ('Microsoft', 'Windows'), ('Google', 'chrome'), ('Tesla', 'SpaceX')])\n",
      "dict_one OrderedDict([('Tesla', 'SpaceX'), ('Apple', 'Iphone'), ('Microsoft', 'Windows'), ('Google', 'chrome')])\n"
     ]
    }
   ],
   "source": [
    "from collections import OrderedDict\n",
    "dict_one = OrderedDict({'Apple':'Iphone','Microsoft':'Windows','Google':'chrome'})\n",
    "print('dict_one',dict_one)\n",
    "dict_two = {'Tesla':'SpaceX'}\n",
    "dict_one.update(dict_two)\n",
    "print('dict_one',dict_one)\n",
    "dict_one.move_to_end('Tesla',last=False)\n",
    "print('dict_one',dict_one)"
   ]
  },
  {
   "cell_type": "markdown",
   "id": "de15ab9b",
   "metadata": {},
   "source": [
    "6) Write a Python program to check order of character in string using OrderedDict()?"
   ]
  },
  {
   "cell_type": "code",
   "execution_count": 2,
   "id": "9a72717a",
   "metadata": {},
   "outputs": [
    {
     "name": "stdout",
     "output_type": "stream",
     "text": [
      "enter the string:engineer\n",
      "enter the pattern:er\n",
      "pattern matched\n"
     ]
    }
   ],
   "source": [
    "from collections import OrderedDict \n",
    "  \n",
    "def checkOrder(str,pattern): \n",
    "      \n",
    "    \n",
    "    dict = OrderedDict.fromkeys(str) \n",
    "  \n",
    "    ptrlen = 0\n",
    "    for key,value in dict.items(): \n",
    "        if (key == pattern[ptrlen]): \n",
    "            ptrlen = ptrlen + 1\n",
    "          \n",
    "        \n",
    "        if (ptrlen == (len(pattern))): \n",
    "            return 'true'\n",
    "  \n",
    "    \n",
    "    return 'false'\n",
    "string=input(\"enter the string:\")\n",
    "pattern=input(\"enter the pattern:\")\n",
    "if checkOrder(string,pattern):\n",
    "    print(\"pattern matched\")\n",
    "else:\n",
    "    print(\"pattern mismatched\")\n"
   ]
  },
  {
   "cell_type": "markdown",
   "id": "17d045dc",
   "metadata": {},
   "source": [
    "7) Write a Python program to sort Python Dictionaries by Key or Value?"
   ]
  },
  {
   "cell_type": "code",
   "execution_count": 29,
   "id": "c39e6702",
   "metadata": {},
   "outputs": [
    {
     "name": "stdout",
     "output_type": "stream",
     "text": [
      "['Banana', 'Grape', 'Mango', 'PineApple']\n",
      "{'Banana': 60, 'Grape': 13, 'Mango': 100, 'PineApple': 22}\n",
      "{'Grape': 13, 'PineApple': 22, 'Banana': 60, 'Mango': 100}\n"
     ]
    }
   ],
   "source": [
    "abc = {'Mango':100,'PineApple':22,'Banana':60,'Grape':13}\n",
    "d={}\n",
    "def sort_dict(in_dict,sort_type):\n",
    "    if sort_type == 'key':\n",
    "        print(sorted(abc.keys()))\n",
    "        print(dict(sorted(abc.items())))\n",
    "    else:\n",
    "        print(dict(sorted(abc.items(), key=lambda abc:abc[1])))\n",
    "        \n",
    "sort_dict(abc,'key')        \n",
    "sort_dict(abc,'value')"
   ]
  },
  {
   "cell_type": "code",
   "execution_count": null,
   "id": "5838f0fd",
   "metadata": {},
   "outputs": [],
   "source": []
  }
 ],
 "metadata": {
  "kernelspec": {
   "display_name": "Python 3 (ipykernel)",
   "language": "python",
   "name": "python3"
  },
  "language_info": {
   "codemirror_mode": {
    "name": "ipython",
    "version": 3
   },
   "file_extension": ".py",
   "mimetype": "text/x-python",
   "name": "python",
   "nbconvert_exporter": "python",
   "pygments_lexer": "ipython3",
   "version": "3.9.12"
  }
 },
 "nbformat": 4,
 "nbformat_minor": 5
}
