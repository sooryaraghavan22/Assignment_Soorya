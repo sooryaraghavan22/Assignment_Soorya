{
 "cells": [
  {
   "cell_type": "markdown",
   "id": "0610fce8",
   "metadata": {},
   "source": [
    "1) Write a Python program to print 'Hello Python'?"
   ]
  },
  {
   "cell_type": "code",
   "execution_count": 1,
   "id": "6b1e0a78",
   "metadata": {},
   "outputs": [
    {
     "name": "stdout",
     "output_type": "stream",
     "text": [
      "Hello Python\n"
     ]
    }
   ],
   "source": [
    "print('Hello Python')"
   ]
  },
  {
   "cell_type": "markdown",
   "id": "112201e7",
   "metadata": {},
   "source": [
    "2) Write a Python program to do arithmetical operations addition and division.?"
   ]
  },
  {
   "cell_type": "code",
   "execution_count": 9,
   "id": "8cd31983",
   "metadata": {},
   "outputs": [
    {
     "name": "stdout",
     "output_type": "stream",
     "text": [
      "Enter a number:9\n",
      "Enter a number:3\n",
      "Addition of 9 and 3 is:12\n",
      "Division of 9 and 3 is:3.0\n"
     ]
    }
   ],
   "source": [
    "a=int(input(\"Enter a number:\"))\n",
    "b=int(input(\"Enter a number:\"))\n",
    "add=a+b\n",
    "print(f\"Addition of {a} and {b} is:{add}\")\n",
    "if b!=0:\n",
    "    div=a/b\n",
    "    print(f\"Division of {a} and {b} is:{div}\")\n",
    "else:\n",
    "    print(\"Please enter a number other than zero\")\n",
    "      \n",
    "      \n",
    "      "
   ]
  },
  {
   "cell_type": "markdown",
   "id": "d862370b",
   "metadata": {},
   "source": [
    "3) Write a Python program to find the area of a triangle?"
   ]
  },
  {
   "cell_type": "code",
   "execution_count": 10,
   "id": "7f7e9c41",
   "metadata": {},
   "outputs": [
    {
     "name": "stdout",
     "output_type": "stream",
     "text": [
      "Enter height of triangle: 6\n",
      "Enter base of triangle: 9\n",
      "Area of triangle:27.0\n"
     ]
    }
   ],
   "source": [
    "height = int(input('Enter height of triangle: '))\n",
    "base = int(input('Enter base of triangle: '))\n",
    "\n",
    "\n",
    "\n",
    "print(f\"Area of triangle:{0.5*height*base}\")\n",
    "\n"
   ]
  },
  {
   "cell_type": "markdown",
   "id": "d7603457",
   "metadata": {},
   "source": [
    "4) Write a Python program to swap two variables?"
   ]
  },
  {
   "cell_type": "code",
   "execution_count": 15,
   "id": "2801aa0b",
   "metadata": {},
   "outputs": [
    {
     "name": "stdout",
     "output_type": "stream",
     "text": [
      "Enter a string: hello\n",
      "Enter a number: 6\n",
      "a=hello , b=6 -->Before swapping\n",
      "a=6 , b=hello -->After swapping\n"
     ]
    }
   ],
   "source": [
    "a=input(\"Enter a string: \")\n",
    "b=input(\"Enter a number: \")\n",
    "print(f\"a={a} , b={b} -->Before swapping\")\n",
    "temp=a\n",
    "a=b\n",
    "b=temp\n",
    "print(f\"a={a} , b={b} -->After swapping\")"
   ]
  },
  {
   "cell_type": "markdown",
   "id": "0d6a71f9",
   "metadata": {},
   "source": [
    "5) Write a Python program to generate a random number?"
   ]
  },
  {
   "cell_type": "code",
   "execution_count": 27,
   "id": "7ba909be",
   "metadata": {},
   "outputs": [
    {
     "name": "stdout",
     "output_type": "stream",
     "text": [
      "Random number ->  56767\n",
      "Random number ->  29\n"
     ]
    }
   ],
   "source": [
    "from random import randint\n",
    "\n",
    "def generateRandomNumber(start=0, end=100000):\n",
    "    print('Random number -> ',randint(start,end))\n",
    "\n",
    "# Generating random numbers without arguments    \n",
    "generateRandomNumber()\n",
    "\n",
    "# Generating random numbers with arguments    \n",
    "generateRandomNumber(0,100)"
   ]
  },
  {
   "cell_type": "code",
   "execution_count": null,
   "id": "fe6f180f",
   "metadata": {},
   "outputs": [],
   "source": []
  }
 ],
 "metadata": {
  "kernelspec": {
   "display_name": "Python 3 (ipykernel)",
   "language": "python",
   "name": "python3"
  },
  "language_info": {
   "codemirror_mode": {
    "name": "ipython",
    "version": 3
   },
   "file_extension": ".py",
   "mimetype": "text/x-python",
   "name": "python",
   "nbconvert_exporter": "python",
   "pygments_lexer": "ipython3",
   "version": "3.9.12"
  }
 },
 "nbformat": 4,
 "nbformat_minor": 5
}
